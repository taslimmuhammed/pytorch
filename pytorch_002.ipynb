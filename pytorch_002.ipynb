{
  "nbformat": 4,
  "nbformat_minor": 0,
  "metadata": {
    "colab": {
      "provenance": [],
      "authorship_tag": "ABX9TyPJx01jywQsBW0vrHJmezaE",
      "include_colab_link": true
    },
    "kernelspec": {
      "name": "python3",
      "display_name": "Python 3"
    },
    "language_info": {
      "name": "python"
    }
  },
  "cells": [
    {
      "cell_type": "markdown",
      "metadata": {
        "id": "view-in-github",
        "colab_type": "text"
      },
      "source": [
        "<a href=\"https://colab.research.google.com/github/taslimmuhammed/pytorch/blob/main/pytorch_002.ipynb\" target=\"_parent\"><img src=\"https://colab.research.google.com/assets/colab-badge.svg\" alt=\"Open In Colab\"/></a>"
      ]
    },
    {
      "cell_type": "code",
      "execution_count": 2,
      "metadata": {
        "id": "lIPF-Xt5z5rW"
      },
      "outputs": [],
      "source": [
        "import torch\n",
        "import pandas as pd\n",
        "import numpy as np\n",
        "import matplotlib.pyplot as plt\n",
        "import seaborn\n",
        "from torch import nn # nn contains all building blocks of neural network"
      ]
    },
    {
      "cell_type": "code",
      "source": [
        "def plot_data(X_train, y_train, X_test, y_test, predictions=None):\n",
        "  plt.figure(figsize=(13,7))\n",
        "  plt.scatter(X_train, y_train, c=\"b\", s=4, label=\"Training Data\")\n",
        "  plt.scatter(X_test, y_test, c=\"g\", s=4, label=\"Testing Data\")\n",
        "  if predictions!=None:\n",
        "    plt.scatter(X_test, predictions, c=\"r\", s=4, label=\"Predictions\")\n",
        "  plt.show()"
      ],
      "metadata": {
        "id": "cbUjhVhb03lM"
      },
      "execution_count": 3,
      "outputs": []
    },
    {
      "cell_type": "markdown",
      "source": [
        "# Creating a linear regression model"
      ],
      "metadata": {
        "id": "lBoY8LBBRCs6"
      }
    },
    {
      "cell_type": "code",
      "source": [
        "class LinearRegresssionModel(nn.Module):\n",
        "  def __init__(self):\n",
        "    super().__init__()\n",
        "    self.wieghts = nn.Parameter(torch.randn(1,#-> start with random wieghts\n",
        "                                            requires_grad=True, #-> can this paramter be adjusted using gradient decent\n",
        "                                            dtype=torch.float))\n",
        "    self.bias = nn.Parameter(torch.randn(1,requires_grad=True, dtype=torch.float))\n",
        "\n",
        "  def forward(self,x:torch.Tensor)-> torch.Tensor:\n",
        "    return self.wieghts* x+ self.bias"
      ],
      "metadata": {
        "id": "uZZ1FwjXIHcs"
      },
      "execution_count": 4,
      "outputs": []
    },
    {
      "cell_type": "code",
      "source": [
        "torch.manual_seed(43) # for having the same value in each learning\n",
        "model_0 = LinearRegresssionModel()\n",
        "list(model_0.parameters())"
      ],
      "metadata": {
        "colab": {
          "base_uri": "https://localhost:8080/"
        },
        "id": "HZmNs4ICRLuA",
        "outputId": "ddb4bd83-2fe9-47c8-d1f3-b52e80f23860"
      },
      "execution_count": 5,
      "outputs": [
        {
          "output_type": "execute_result",
          "data": {
            "text/plain": [
              "[Parameter containing:\n",
              " tensor([-0.6484], requires_grad=True),\n",
              " Parameter containing:\n",
              " tensor([-0.7058], requires_grad=True)]"
            ]
          },
          "metadata": {},
          "execution_count": 5
        }
      ]
    },
    {
      "cell_type": "code",
      "source": [
        "model_0.state_dict()"
      ],
      "metadata": {
        "colab": {
          "base_uri": "https://localhost:8080/"
        },
        "id": "X9RYW1EyRLCd",
        "outputId": "2c5cf560-4465-4fde-9045-480ebbee2a20"
      },
      "execution_count": 6,
      "outputs": [
        {
          "output_type": "execute_result",
          "data": {
            "text/plain": [
              "OrderedDict([('wieghts', tensor([-0.6484])), ('bias', tensor([-0.7058]))])"
            ]
          },
          "metadata": {},
          "execution_count": 6
        }
      ]
    }
  ]
}