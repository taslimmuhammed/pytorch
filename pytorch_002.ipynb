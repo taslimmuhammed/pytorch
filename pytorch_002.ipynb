{
  "nbformat": 4,
  "nbformat_minor": 0,
  "metadata": {
    "colab": {
      "provenance": [],
      "gpuType": "T4",
      "authorship_tag": "ABX9TyPmSOFlLNSDsl0kfPoPxyyK",
      "include_colab_link": true
    },
    "kernelspec": {
      "name": "python3",
      "display_name": "Python 3"
    },
    "language_info": {
      "name": "python"
    },
    "accelerator": "GPU"
  },
  "cells": [
    {
      "cell_type": "markdown",
      "metadata": {
        "id": "view-in-github",
        "colab_type": "text"
      },
      "source": [
        "<a href=\"https://colab.research.google.com/github/taslimmuhammed/pytorch/blob/main/pytorch_002.ipynb\" target=\"_parent\"><img src=\"https://colab.research.google.com/assets/colab-badge.svg\" alt=\"Open In Colab\"/></a>"
      ]
    },
    {
      "cell_type": "code",
      "execution_count": 6,
      "metadata": {
        "id": "lIPF-Xt5z5rW"
      },
      "outputs": [],
      "source": [
        "import torch\n",
        "import pandas as pd\n",
        "import numpy as np\n",
        "import matplotlib.pyplot as plt\n",
        "import seaborn\n",
        "from torch import nn # nn contains all building blocks of neural network"
      ]
    },
    {
      "cell_type": "code",
      "source": [
        "def plot_data(X_train, y_train, X_test, y_test, predictions=None):\n",
        "  plt.figure(figsize=(13,7))\n",
        "  plt.scatter(X_train, y_train, c=\"b\", s=4, label=\"Training Data\")\n",
        "  plt.scatter(X_test, y_test, c=\"r\", s=10, label=\"Testing Data\")\n",
        "  if predictions!=None:\n",
        "    plt.scatter(X_test, predictions, c=\"g\", s=10, label=\"Predictions\")\n",
        "  plt.legend()\n",
        "  plt.show()"
      ],
      "metadata": {
        "id": "cbUjhVhb03lM"
      },
      "execution_count": 7,
      "outputs": []
    },
    {
      "cell_type": "markdown",
      "source": [
        "# Creating a linear regression model"
      ],
      "metadata": {
        "id": "lBoY8LBBRCs6"
      }
    },
    {
      "cell_type": "code",
      "source": [
        "class LinearRegresssionModel(nn.Module):\n",
        "  def __init__(self):\n",
        "    super().__init__()\n",
        "    self.wieghts = nn.Parameter(torch.randn(1,#-> start with random wieghts\n",
        "                                            requires_grad=True, #-> can this paramter be adjusted using gradient decent\n",
        "                                            dtype=torch.float))\n",
        "    self.bias = nn.Parameter(torch.randn(1,requires_grad=True, dtype=torch.float))\n",
        "\n",
        "  def forward(self,x:torch.Tensor)-> torch.Tensor:\n",
        "    return self.wieghts* x+ self.bias"
      ],
      "metadata": {
        "id": "uZZ1FwjXIHcs"
      },
      "execution_count": 8,
      "outputs": []
    },
    {
      "cell_type": "code",
      "source": [
        "torch.manual_seed(43) # for having the same value in each learning\n",
        "model_0 = LinearRegresssionModel()\n",
        "list(model_0.parameters())"
      ],
      "metadata": {
        "colab": {
          "base_uri": "https://localhost:8080/"
        },
        "id": "HZmNs4ICRLuA",
        "outputId": "5637d01a-9b73-46a7-e211-4de50ef2156b"
      },
      "execution_count": 9,
      "outputs": [
        {
          "output_type": "execute_result",
          "data": {
            "text/plain": [
              "[Parameter containing:\n",
              " tensor([-0.6484], requires_grad=True),\n",
              " Parameter containing:\n",
              " tensor([-0.7058], requires_grad=True)]"
            ]
          },
          "metadata": {},
          "execution_count": 9
        }
      ]
    },
    {
      "cell_type": "code",
      "source": [
        "model_0.state_dict()"
      ],
      "metadata": {
        "colab": {
          "base_uri": "https://localhost:8080/"
        },
        "id": "X9RYW1EyRLCd",
        "outputId": "56f66090-67ba-41f4-dec9-6acee125d0a1"
      },
      "execution_count": 10,
      "outputs": [
        {
          "output_type": "execute_result",
          "data": {
            "text/plain": [
              "OrderedDict([('wieghts', tensor([-0.6484])), ('bias', tensor([-0.7058]))])"
            ]
          },
          "metadata": {},
          "execution_count": 10
        }
      ]
    },
    {
      "cell_type": "code",
      "source": [
        "X = torch.arange(1,101).unsqueeze(dim=1)\n",
        "y= X*6-9\n",
        "X[0:5],y[0:5]"
      ],
      "metadata": {
        "colab": {
          "base_uri": "https://localhost:8080/"
        },
        "id": "zVHn0LhJXlxS",
        "outputId": "aac4e4af-8284-4602-f195-cb9179fd0039"
      },
      "execution_count": 11,
      "outputs": [
        {
          "output_type": "execute_result",
          "data": {
            "text/plain": [
              "(tensor([[1],\n",
              "         [2],\n",
              "         [3],\n",
              "         [4],\n",
              "         [5]]),\n",
              " tensor([[-3],\n",
              "         [ 3],\n",
              "         [ 9],\n",
              "         [15],\n",
              "         [21]]))"
            ]
          },
          "metadata": {},
          "execution_count": 11
        }
      ]
    },
    {
      "cell_type": "code",
      "source": [
        "from sklearn.model_selection import train_test_split\n",
        "X_train, X_test, y_train, y_test = train_test_split(X,y, test_size=.2)\n",
        "X_train.shape"
      ],
      "metadata": {
        "colab": {
          "base_uri": "https://localhost:8080/"
        },
        "id": "CBYvZChWX3gK",
        "outputId": "7b043245-d786-4b11-dd40-f301eeb073c4"
      },
      "execution_count": 12,
      "outputs": [
        {
          "output_type": "execute_result",
          "data": {
            "text/plain": [
              "torch.Size([80, 1])"
            ]
          },
          "metadata": {},
          "execution_count": 12
        }
      ]
    },
    {
      "cell_type": "code",
      "source": [
        "y_pred = model_0(X_test)\n",
        "y_pred"
      ],
      "metadata": {
        "colab": {
          "base_uri": "https://localhost:8080/"
        },
        "id": "NCz0zzg-ZqPv",
        "outputId": "66ba283c-7e9e-4fc3-ce84-38644dfa8986"
      },
      "execution_count": 13,
      "outputs": [
        {
          "output_type": "execute_result",
          "data": {
            "text/plain": [
              "tensor([[-30.5323],\n",
              "        [ -9.1351],\n",
              "        [-14.9707],\n",
              "        [-65.5460],\n",
              "        [-22.1031],\n",
              "        [-52.5779],\n",
              "        [-42.2035],\n",
              "        [-39.6099],\n",
              "        [-16.2675],\n",
              "        [-29.2355],\n",
              "        [ -3.2994],\n",
              "        [-61.0071],\n",
              "        [-15.6191],\n",
              "        [-31.1807],\n",
              "        [-19.5095],\n",
              "        [ -7.1899],\n",
              "        [-35.0711],\n",
              "        [-13.0255],\n",
              "        [ -5.2446],\n",
              "        [-38.3131]], grad_fn=<AddBackward0>)"
            ]
          },
          "metadata": {},
          "execution_count": 13
        }
      ]
    },
    {
      "cell_type": "code",
      "source": [
        "with torch.inference_mode():\n",
        "  y_pred = model_0(X_test)\n",
        "y_pred"
      ],
      "metadata": {
        "colab": {
          "base_uri": "https://localhost:8080/"
        },
        "id": "VeKKIAV_aEpi",
        "outputId": "8d251c74-a093-4d19-dac3-c8f6bb8b5d8f"
      },
      "execution_count": 14,
      "outputs": [
        {
          "output_type": "execute_result",
          "data": {
            "text/plain": [
              "tensor([[-30.5323],\n",
              "        [ -9.1351],\n",
              "        [-14.9707],\n",
              "        [-65.5460],\n",
              "        [-22.1031],\n",
              "        [-52.5779],\n",
              "        [-42.2035],\n",
              "        [-39.6099],\n",
              "        [-16.2675],\n",
              "        [-29.2355],\n",
              "        [ -3.2994],\n",
              "        [-61.0071],\n",
              "        [-15.6191],\n",
              "        [-31.1807],\n",
              "        [-19.5095],\n",
              "        [ -7.1899],\n",
              "        [-35.0711],\n",
              "        [-13.0255],\n",
              "        [ -5.2446],\n",
              "        [-38.3131]])"
            ]
          },
          "metadata": {},
          "execution_count": 14
        }
      ]
    },
    {
      "cell_type": "markdown",
      "source": [
        "**you can see that the grad term at the end of previous result is missing here, The inference mode is exclusively for predicting purpose and it disables the auto_grad part**"
      ],
      "metadata": {
        "id": "5HJODyvJaVUx"
      }
    },
    {
      "cell_type": "code",
      "source": [
        "plot_data(X_train,y_train,X_test,y_test,y_pred)"
      ],
      "metadata": {
        "colab": {
          "base_uri": "https://localhost:8080/",
          "height": 599
        },
        "id": "HFRXOWCeat3y",
        "outputId": "5bb1a22c-4945-4b98-c820-d357ed1707a1"
      },
      "execution_count": 15,
      "outputs": [
        {
          "output_type": "display_data",
          "data": {
            "text/plain": [
              "<Figure size 1300x700 with 1 Axes>"
            ],
            "image/png": "[encoded data removed]"
          },
          "metadata": {}
        }
      ]
    },
    {
      "cell_type": "code",
      "source": [
        "loss_fn = nn.L1Loss() # mean absolute error\n",
        "optimizer = torch.optim.SGD(model_0.parameters(),lr=0.01, ) #SGD- sotchastic gradient decent"
      ],
      "metadata": {
        "id": "Opayn3a0bQvo"
      },
      "execution_count": 16,
      "outputs": []
    },
    {
      "cell_type": "markdown",
      "source": [
        "# Training Model\n",
        "1. model_0.eval() - turn on evaluating mode for model, turn off diff settings required for traning\n",
        "2. model_0.train() - turn on training mode\n",
        "3. model_0.inference_mode()/model_0.no_grad() - turn off auto grad, only this result can be used for plotting"
      ],
      "metadata": {
        "id": "58OH1SuXrDXz"
      }
    },
    {
      "cell_type": "code",
      "source": [
        "epochs = 10000\n",
        "epoch_arr = []\n",
        "train_cost = []\n",
        "test_cost = []\n",
        "for epoch in range(epochs):\n",
        "  # training model\n",
        "  model_0.train()\n",
        "  y_pred = model_0(X_train)\n",
        "  loss = loss_fn(y_pred, y_train)\n",
        "  optimizer.zero_grad() #starting optimzer fresh, by defualt it'll accumilate previous results\n",
        "  loss.backward()\n",
        "  optimizer.step()\n",
        "\n",
        "  # noting loss, for testing and graphing purpouses only\n",
        "  if epoch%1000==0:\n",
        "    print(loss)\n",
        "    print(model_0.state_dict())\n",
        "    with torch.inference_mode():\n",
        "      model_0.eval()\n",
        "      epoch_arr.append(epoch)\n",
        "      train_cost.append(loss)\n",
        "      y_pred_test = model_0(X_test)\n",
        "      test_loss = loss_fn(y_pred_test,y_test)\n",
        "      test_cost.append(test_loss)\n"
      ],
      "metadata": {
        "colab": {
          "base_uri": "https://localhost:8080/"
        },
        "id": "_mnNCNsclbFw",
        "outputId": "f27d0e44-43af-4026-c346-8aa91b3ec5fd"
      },
      "execution_count": 17,
      "outputs": [
        {
          "output_type": "stream",
          "name": "stdout",
          "text": [
            "tensor(342.5332, grad_fn=<MeanBackward0>)\n",
            "OrderedDict([('wieghts', tensor([-0.1210])), ('bias', tensor([-0.6961]))])\n",
            "tensor(16.5162, grad_fn=<MeanBackward0>)\n",
            "OrderedDict([('wieghts', tensor([6.0731])), ('bias', tensor([-1.8148]))])\n",
            "tensor(19.0074, grad_fn=<MeanBackward0>)\n",
            "OrderedDict([('wieghts', tensor([6.0506])), ('bias', tensor([-2.8596]))])\n",
            "tensor(20.9499, grad_fn=<MeanBackward0>)\n",
            "OrderedDict([('wieghts', tensor([6.0327])), ('bias', tensor([-3.7806]))])\n",
            "tensor(25.1873, grad_fn=<MeanBackward0>)\n",
            "OrderedDict([('wieghts', tensor([5.9685])), ('bias', tensor([-4.5864]))])\n",
            "tensor(21.3937, grad_fn=<MeanBackward0>)\n",
            "OrderedDict([('wieghts', tensor([6.0522])), ('bias', tensor([-5.2600]))])\n",
            "tensor(25.6731, grad_fn=<MeanBackward0>)\n",
            "OrderedDict([('wieghts', tensor([5.9822])), ('bias', tensor([-5.8693]))])\n",
            "tensor(26.5234, grad_fn=<MeanBackward0>)\n",
            "OrderedDict([('wieghts', tensor([5.9760])), ('bias', tensor([-6.3735]))])\n",
            "tensor(21.5197, grad_fn=<MeanBackward0>)\n",
            "OrderedDict([('wieghts', tensor([6.0779])), ('bias', tensor([-6.7633]))])\n",
            "tensor(22.0217, grad_fn=<MeanBackward0>)\n",
            "OrderedDict([('wieghts', tensor([6.0749])), ('bias', tensor([-7.1318]))])\n"
          ]
        }
      ]
    },
    {
      "cell_type": "markdown",
      "source": [
        "The equation we did was **y = 6x - 9** , it's getting closer to that"
      ],
      "metadata": {
        "id": "LuUcgQx_uDmi"
      }
    },
    {
      "cell_type": "code",
      "source": [
        "# Testing\n",
        "with torch.no_grad():\n",
        "  model_0.eval()\n",
        "  y_pred = model_0(X_test)\n",
        "print(model_0.state_dict())\n",
        "plot_data(X_train, y_train, X_test, y_test, y_pred)"
      ],
      "metadata": {
        "colab": {
          "base_uri": "https://localhost:8080/",
          "height": 616
        },
        "id": "rjeRuBEArV5W",
        "outputId": "3459f999-8967-447c-ca6c-e8649f8f9e7b"
      },
      "execution_count": 18,
      "outputs": [
        {
          "output_type": "stream",
          "name": "stdout",
          "text": [
            "OrderedDict([('wieghts', tensor([5.4592])), ('bias', tensor([-7.4839]))])\n"
          ]
        },
        {
          "output_type": "display_data",
          "data": {
            "text/plain": [
              "<Figure size 1300x700 with 1 Axes>"
            ],
            "image/png": "[encoded data removed]"
          },
          "metadata": {}
        }
      ]
    },
    {
      "cell_type": "code",
      "source": [
        "plt.plot(epoch_arr,np.array(torch.tensor(train_cost)), label=\"Train Loss\")\n",
        "plt.plot(epoch_arr,test_cost, label=\"Test Loss\")\n",
        "plt.title(\"Train and Test Cost\")\n",
        "plt.xlabel(\"Epochs\")\n",
        "plt.ylabel(\"Cost\")"
      ],
      "metadata": {
        "colab": {
          "base_uri": "https://localhost:8080/",
          "height": 489
        },
        "id": "u3bg-E0vuMub",
        "outputId": "4b015a8f-f51e-4934-c96a-cebc4e8b263b"
      },
      "execution_count": 19,
      "outputs": [
        {
          "output_type": "execute_result",
          "data": {
            "text/plain": [
              "Text(0, 0.5, 'Cost')"
            ]
          },
          "metadata": {},
          "execution_count": 19
        },
        {
          "output_type": "display_data",
          "data": {
            "text/plain": [
              "<Figure size 640x480 with 1 Axes>"
            ],
            "image/png": "[encoded data removed]"
          },
          "metadata": {}
        }
      ]
    },
    {
      "cell_type": "markdown",
      "source": [
        "# Saving a Model\n",
        "1. torch.save() - save a model\n",
        "2. torch.load() - load a model\n",
        "3. torch.nn.Module.load_state_dict() - allows to load models saved state dictionary"
      ],
      "metadata": {
        "id": "0SdkaY2Yv_6k"
      }
    },
    {
      "cell_type": "code",
      "source": [
        "from pathlib import Path\n",
        "\n",
        "model_path = Path(\"models\")\n",
        "model_path.mkdir(parents=True, exist_ok=True)\n",
        "\n",
        "model_name = \"01_pytorch_workflow_model_0.pth\"\n",
        "model_save_path = model_path / model_name\n",
        "\n",
        "print(\"saving model\")\n",
        "torch.save(obj=model_0.state_dict(), f=model_save_path)"
      ],
      "metadata": {
        "colab": {
          "base_uri": "https://localhost:8080/"
        },
        "id": "6ZGYCYGSvsaj",
        "outputId": "b0c04397-b114-40ec-a846-1e01ef328ec3"
      },
      "execution_count": 20,
      "outputs": [
        {
          "output_type": "stream",
          "name": "stdout",
          "text": [
            "saving model\n"
          ]
        }
      ]
    },
    {
      "cell_type": "markdown",
      "source": [
        "# Loading Saved Model"
      ],
      "metadata": {
        "id": "tiek73Uf3gvv"
      }
    },
    {
      "cell_type": "code",
      "source": [
        "loaded_model_0 = LinearRegresssionModel()\n",
        "loaded_model_0.load_state_dict(torch.load(f=model_save_path))\n",
        "loaded_model_0.state_dict()"
      ],
      "metadata": {
        "colab": {
          "base_uri": "https://localhost:8080/"
        },
        "id": "YtHYGNW32R4f",
        "outputId": "7832a088-b97c-4bc5-9b83-6c7d26bc8a46"
      },
      "execution_count": 21,
      "outputs": [
        {
          "output_type": "execute_result",
          "data": {
            "text/plain": [
              "OrderedDict([('wieghts', tensor([5.4592])), ('bias', tensor([-7.4839]))])"
            ]
          },
          "metadata": {},
          "execution_count": 21
        }
      ]
    },
    {
      "cell_type": "markdown",
      "source": [
        "# Saving Model State + Optimizer state and other Details\n",
        "torch.save({\n",
        "    'epoch': epoch, \\\n",
        "    'model_state_dict': model.state_dict(),\\\n",
        "    'optimizer_state_dict': optimizer.state_dict(),\\\n",
        "    'loss': loss, \\\n",
        "    }, 'checkpoint.pth') \\\n",
        "\n",
        "# Loading Each\n",
        "checkpoint = torch.load('checkpoint.pth')\\\n",
        "model.load_state_dict(checkpoint['model_state_dict'])\\\n",
        "optimizer.load_state_dict(checkpoint['optimizer_state_dict'])\\\n",
        "epoch = checkpoint['epoch']\\\n",
        "loss = checkpoint['loss']\\\n",
        "model.eval()  # or model.train() if you need to continue training\n",
        "\n"
      ],
      "metadata": {
        "id": "xzB1sQCc32cl"
      }
    },
    {
      "cell_type": "markdown",
      "source": [
        "# Linear V2"
      ],
      "metadata": {
        "id": "F0D7oz33JmgL"
      }
    },
    {
      "cell_type": "code",
      "source": [
        "import torch\n",
        "from torch import nn\n",
        "class LinearRegressionV2(nn.Module):\n",
        "  def __init__(self):\n",
        "    super().__init__()\n",
        "    self.linear_layer = nn.Linear(in_features=1, out_features=1)\n",
        "\n",
        "  def forward(self, x:torch.Tensor) -> torch.Tensor:\n",
        "    return self.linear_layer(x)\n",
        "\n",
        "torch.manual_seed(42)\n",
        "model_1 = LinearRegressionV2()\n",
        "model_1, model_1.state_dict()"
      ],
      "metadata": {
        "colab": {
          "base_uri": "https://localhost:8080/"
        },
        "id": "5NTY8MHk3lr1",
        "outputId": "94c3a2ce-a286-446e-f179-23c3f9302856"
      },
      "execution_count": 36,
      "outputs": [
        {
          "output_type": "execute_result",
          "data": {
            "text/plain": [
              "(LinearRegressionV2(\n",
              "   (linear_layer): Linear(in_features=1, out_features=1, bias=True)\n",
              " ),\n",
              " OrderedDict([('linear_layer.weight', tensor([[0.7645]])),\n",
              "              ('linear_layer.bias', tensor([0.8300]))]))"
            ]
          },
          "metadata": {},
          "execution_count": 36
        }
      ]
    },
    {
      "cell_type": "code",
      "source": [
        "next(model_1.parameters()).device"
      ],
      "metadata": {
        "colab": {
          "base_uri": "https://localhost:8080/"
        },
        "id": "mkx6CCC7HkpF",
        "outputId": "8e12b09c-12cb-4a50-ee61-39dee5d27f75"
      },
      "execution_count": 37,
      "outputs": [
        {
          "output_type": "execute_result",
          "data": {
            "text/plain": [
              "device(type='cpu')"
            ]
          },
          "metadata": {},
          "execution_count": 37
        }
      ]
    },
    {
      "cell_type": "code",
      "source": [
        "device = \"cuda\" if torch.cuda.is_available() else \"cpu\"\n",
        "device"
      ],
      "metadata": {
        "colab": {
          "base_uri": "https://localhost:8080/",
          "height": 36
        },
        "id": "TUWjU0AoIPFh",
        "outputId": "ce59c1dd-5f2a-4082-dc65-32238d5e983f"
      },
      "execution_count": 38,
      "outputs": [
        {
          "output_type": "execute_result",
          "data": {
            "text/plain": [
              "'cuda'"
            ],
            "application/vnd.google.colaboratory.intrinsic+json": {
              "type": "string"
            }
          },
          "metadata": {},
          "execution_count": 38
        }
      ]
    },
    {
      "cell_type": "code",
      "source": [
        "model_1.to(device)\n",
        "next(model_1.parameters()).device"
      ],
      "metadata": {
        "colab": {
          "base_uri": "https://localhost:8080/"
        },
        "id": "uT_jpKluIt4d",
        "outputId": "dc395c64-c32d-4727-f54f-3bc2efeed5e1"
      },
      "execution_count": 39,
      "outputs": [
        {
          "output_type": "execute_result",
          "data": {
            "text/plain": [
              "device(type='cuda', index=0)"
            ]
          },
          "metadata": {},
          "execution_count": 39
        }
      ]
    },
    {
      "cell_type": "code",
      "source": [
        "loss_fn = nn.L1Loss()\n",
        "optimizer = torch.optim.SGD(params = model_1.parameters(),lr=0.01)"
      ],
      "metadata": {
        "id": "Xq81Mn0tJCuw"
      },
      "execution_count": 56,
      "outputs": []
    },
    {
      "cell_type": "markdown",
      "source": [
        "# Training"
      ],
      "metadata": {
        "id": "SYuCz1J7JhI9"
      }
    },
    {
      "cell_type": "code",
      "source": [
        "X_train.to(device); y_train.to(device); X_test.to(device); y_test.to(device);\n",
        "X_train = X_train.type(torch.float32); y_train = y_train.type(torch.float32);X_test= X_test.type(torch.float32); y_test = y_test.type(torch.float32);\n",
        "X_train.device, X_train.dtype"
      ],
      "metadata": {
        "colab": {
          "base_uri": "https://localhost:8080/"
        },
        "id": "1tQkAGnpJZbq",
        "outputId": "b31260ef-a688-44fd-ad4a-f8e3605520e8"
      },
      "execution_count": 52,
      "outputs": [
        {
          "output_type": "execute_result",
          "data": {
            "text/plain": [
              "(device(type='cuda', index=0), torch.float32)"
            ]
          },
          "metadata": {},
          "execution_count": 52
        }
      ]
    },
    {
      "cell_type": "code",
      "source": [
        "epochs = 2000\n",
        "for epoch in range(epochs):\n",
        "  model_1.train()\n",
        "  y_pred = model_1(X_train)\n",
        "  loss = loss_fn(y_pred, y_train)\n",
        "  optimizer.zero_grad()\n",
        "  loss.backward()\n",
        "  optimizer.step()\n",
        "\n",
        "  if epoch%200==0:\n",
        "    model_1.eval()\n",
        "    print(list(model_1.parameters()))"
      ],
      "metadata": {
        "colab": {
          "base_uri": "https://localhost:8080/"
        },
        "id": "p4zoOK7pO0jk",
        "outputId": "9631abf4-fdbf-41c6-9eaa-7abdf1d8f7b2"
      },
      "execution_count": 60,
      "outputs": [
        {
          "output_type": "stream",
          "name": "stdout",
          "text": [
            "[Parameter containing:\n",
            "tensor([[5.5939]], device='cuda:0', requires_grad=True), Parameter containing:\n",
            "tensor([-6.2197], device='cuda:0', requires_grad=True)]\n",
            "[Parameter containing:\n",
            "tensor([[5.4746]], device='cuda:0', requires_grad=True), Parameter containing:\n",
            "tensor([-6.3159], device='cuda:0', requires_grad=True)]\n",
            "[Parameter containing:\n",
            "tensor([[5.4761]], device='cuda:0', requires_grad=True), Parameter containing:\n",
            "tensor([-6.4065], device='cuda:0', requires_grad=True)]\n",
            "[Parameter containing:\n",
            "tensor([[5.5021]], device='cuda:0', requires_grad=True), Parameter containing:\n",
            "tensor([-6.4880], device='cuda:0', requires_grad=True)]\n",
            "[Parameter containing:\n",
            "tensor([[5.4543]], device='cuda:0', requires_grad=True), Parameter containing:\n",
            "tensor([-6.5657], device='cuda:0', requires_grad=True)]\n",
            "[Parameter containing:\n",
            "tensor([[5.5016]], device='cuda:0', requires_grad=True), Parameter containing:\n",
            "tensor([-6.6430], device='cuda:0', requires_grad=True)]\n",
            "[Parameter containing:\n",
            "tensor([[5.4578]], device='cuda:0', requires_grad=True), Parameter containing:\n",
            "tensor([-6.7198], device='cuda:0', requires_grad=True)]\n",
            "[Parameter containing:\n",
            "tensor([[5.4627]], device='cuda:0', requires_grad=True), Parameter containing:\n",
            "tensor([-6.7939], device='cuda:0', requires_grad=True)]\n",
            "[Parameter containing:\n",
            "tensor([[5.5437]], device='cuda:0', requires_grad=True), Parameter containing:\n",
            "tensor([-6.8687], device='cuda:0', requires_grad=True)]\n",
            "[Parameter containing:\n",
            "tensor([[5.4672]], device='cuda:0', requires_grad=True), Parameter containing:\n",
            "tensor([-6.9429], device='cuda:0', requires_grad=True)]\n"
          ]
        }
      ]
    },
    {
      "cell_type": "code",
      "source": [
        "with torch.inference_mode():\n",
        "  y_pred = model_1(X_test)\n",
        "\n",
        "plot_data(X_train.cpu(), y_train.cpu(), X_test.cpu(), y_test.cpu(), y_pred.cpu())"
      ],
      "metadata": {
        "colab": {
          "base_uri": "https://localhost:8080/",
          "height": 599
        },
        "id": "ymApAgsVS5Mk",
        "outputId": "4221ddad-afef-4cbf-b071-832d628892a5"
      },
      "execution_count": 66,
      "outputs": [
        {
          "output_type": "display_data",
          "data": {
            "text/plain": [
              "<Figure size 1300x700 with 1 Axes>"
            ],
            "image/png": "[encoded data removed]"
          },
          "metadata": {}
        }
      ]
    },
    {
      "cell_type": "markdown",
      "source": [
        "# Saving the Model"
      ],
      "metadata": {
        "id": "ju2S78TGWDG4"
      }
    },
    {
      "cell_type": "code",
      "source": [
        "from pathlib import Path\n",
        "model_folder = Path(\"models\")\n",
        "model_folder.mkdir(parents=True, exist_ok=True)\n",
        "\n",
        "model_name = \"pytorch_linear_v2.pth\"\n",
        "path = model_folder / model_name\n",
        "\n",
        "torch.save({\n",
        "    \"model_state_dict\":model_1.state_dict(),\n",
        "    \"optimizer_state_dict\": optimizer.state_dict(),\n",
        "    \"loss\":loss\n",
        "},path)\n"
      ],
      "metadata": {
        "id": "EXrxrbOaWGx2"
      },
      "execution_count": 67,
      "outputs": []
    },
    {
      "cell_type": "markdown",
      "source": [
        "# Loading the Model"
      ],
      "metadata": {
        "id": "6G7-khOYXcdS"
      }
    },
    {
      "cell_type": "code",
      "source": [
        "loaded_model = LinearRegressionV2()\n",
        "checkpont = torch.load(path)\n",
        "loaded_model.load_state_dict(checkpont[\"model_state_dict\"])\n",
        "optimizer.load_state_dict(checkpont[\"optimizer_state_dict\"])\n",
        "y_pred = loaded_model(X_test.cpu())\n",
        "loss_fn(y_pred.cpu(),y_test.cpu())"
      ],
      "metadata": {
        "colab": {
          "base_uri": "https://localhost:8080/"
        },
        "id": "3CV4BK4sXfd7",
        "outputId": "58ebbd6a-3db6-45ce-c02b-5acc69af99f2"
      },
      "execution_count": 70,
      "outputs": [
        {
          "output_type": "execute_result",
          "data": {
            "text/plain": [
              "tensor(2.6270, grad_fn=<MeanBackward0>)"
            ]
          },
          "metadata": {},
          "execution_count": 70
        }
      ]
    }
  ]
}